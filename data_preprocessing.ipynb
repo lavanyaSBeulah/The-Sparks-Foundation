{
  "nbformat": 4,
  "nbformat_minor": 0,
  "metadata": {
    "colab": {
      "name": "Copy of data preprocessing",
      "provenance": [],
      "authorship_tag": "ABX9TyOQXNyOTfGsoeClTB8GEjcb",
      "include_colab_link": true
    },
    "kernelspec": {
      "name": "python3",
      "display_name": "Python 3"
    },
    "language_info": {
      "name": "python"
    }
  },
  "cells": [
    {
      "cell_type": "markdown",
      "metadata": {
        "id": "view-in-github",
        "colab_type": "text"
      },
      "source": [
        "<a href=\"https://colab.research.google.com/github/lavanyaSBeulah/The-Sparks-Foundation/blob/main/data_preprocessing.ipynb\" target=\"_parent\"><img src=\"https://colab.research.google.com/assets/colab-badge.svg\" alt=\"Open In Colab\"/></a>"
      ]
    },
    {
      "cell_type": "markdown",
      "metadata": {
        "id": "Lsq6GQZg3cOE"
      },
      "source": [
        "# Data preprocessing steps on the given array\n",
        "\n"
      ]
    },
    {
      "cell_type": "code",
      "metadata": {
        "id": "UacbfQHW3eg5"
      },
      "source": [
        "import numpy as np\n",
        "from sklearn import preprocessing"
      ],
      "execution_count": null,
      "outputs": []
    },
    {
      "cell_type": "code",
      "metadata": {
        "id": "47veBTdX0evo"
      },
      "source": [
        "input_data = np.array([[3, -1.5, 3, -6.4], [0, 3, -1.3, 4.1], [1, 2.3, -2.9, -4.3]])"
      ],
      "execution_count": null,
      "outputs": []
    },
    {
      "cell_type": "markdown",
      "metadata": {
        "id": "toFCjQ_s1eHu"
      },
      "source": [
        "# 1.**MEAN** **REMOVAL**"
      ]
    },
    {
      "cell_type": "code",
      "metadata": {
        "colab": {
          "base_uri": "https://localhost:8080/"
        },
        "id": "gVB1wlQa1E_I",
        "outputId": "df335507-15be-4bde-e695-c0322572b4fe"
      },
      "source": [
        "data_standardized = preprocessing.scale(input_data)\n",
        "print (\"\\n Mean = \", data_standardized.mean(axis = 1))\n",
        "print (\"Std deviation = \", data_standardized.std(axis = 1))"
      ],
      "execution_count": null,
      "outputs": [
        {
          "output_type": "stream",
          "text": [
            "\n",
            " Mean =  [ 0.09396578  0.20878489 -0.30275067]\n",
            "Std deviation =  [1.26770138 0.97419036 0.54754697]\n"
          ],
          "name": "stdout"
        }
      ]
    },
    {
      "cell_type": "markdown",
      "metadata": {
        "id": "rJR2Q6Ab1yZP"
      },
      "source": [
        "# **2.SCALE THE DATA**"
      ]
    },
    {
      "cell_type": "code",
      "metadata": {
        "colab": {
          "base_uri": "https://localhost:8080/"
        },
        "id": "8r3A64TP1FNH",
        "outputId": "8e0c17ae-4b39-4161-a0ff-c3f51ab9e049"
      },
      "source": [
        "data_scaler = preprocessing.MinMaxScaler(feature_range = (0, 1))\n",
        "data_scaled = data_scaler.fit_transform(input_data)\n",
        "print (\"\\n Min max scaled data = \", data_scaled)"
      ],
      "execution_count": null,
      "outputs": [
        {
          "output_type": "stream",
          "text": [
            "\n",
            " Min max scaled data =  [[1.         0.         1.         0.        ]\n",
            " [0.         1.         0.27118644 1.        ]\n",
            " [0.33333333 0.84444444 0.         0.2       ]]\n"
          ],
          "name": "stdout"
        }
      ]
    },
    {
      "cell_type": "markdown",
      "metadata": {
        "id": "kX0HwcJE2EkX"
      },
      "source": [
        "## 3.**Normalize the data**"
      ]
    },
    {
      "cell_type": "code",
      "metadata": {
        "colab": {
          "base_uri": "https://localhost:8080/"
        },
        "id": "55Kmrt9j2COm",
        "outputId": "afa02698-447e-47be-b113-999d75a9871d"
      },
      "source": [
        "data_normalized = preprocessing.normalize(input_data, norm  = 'l1')\n",
        "print (\"\\nL1 normalized data = \", data_normalized)"
      ],
      "execution_count": null,
      "outputs": [
        {
          "output_type": "stream",
          "text": [
            "\n",
            "L1 normalized data =  [[ 0.21582734 -0.10791367  0.21582734 -0.46043165]\n",
            " [ 0.          0.35714286 -0.1547619   0.48809524]\n",
            " [ 0.0952381   0.21904762 -0.27619048 -0.40952381]]\n"
          ],
          "name": "stdout"
        }
      ]
    },
    {
      "cell_type": "markdown",
      "metadata": {
        "id": "wkww-SAR2xmP"
      },
      "source": [
        "## **4.Binarize the data**"
      ]
    },
    {
      "cell_type": "code",
      "metadata": {
        "colab": {
          "base_uri": "https://localhost:8080/"
        },
        "id": "HH73QwsO2CRf",
        "outputId": "d7ea662b-bdef-408c-df23-0967c0633b50"
      },
      "source": [
        "data_binarized = preprocessing.Binarizer(threshold=1.4).transform(input_data)\n",
        "print (\"\\nBinarized data =\", data_binarized)"
      ],
      "execution_count": null,
      "outputs": [
        {
          "output_type": "stream",
          "text": [
            "\n",
            "Binarized data = [[1. 0. 1. 0.]\n",
            " [0. 1. 0. 1.]\n",
            " [0. 1. 0. 0.]]\n"
          ],
          "name": "stdout"
        }
      ]
    }
  ]
}